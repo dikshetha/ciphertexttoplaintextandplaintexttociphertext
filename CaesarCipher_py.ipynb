{
  "nbformat": 4,
  "nbformat_minor": 0,
  "metadata": {
    "colab": {
      "provenance": [],
      "authorship_tag": "ABX9TyNH1f6/JdS5jM5LnXvlawD7",
      "include_colab_link": true
    },
    "kernelspec": {
      "name": "python3",
      "display_name": "Python 3"
    },
    "language_info": {
      "name": "python"
    }
  },
  "cells": [
    {
      "cell_type": "markdown",
      "metadata": {
        "id": "view-in-github",
        "colab_type": "text"
      },
      "source": [
        "<a href=\"https://colab.research.google.com/github/dikshetha/ciphertexttoplaintextandplaintexttociphertext/blob/main/CaesarCipher_py.ipynb\" target=\"_parent\"><img src=\"https://colab.research.google.com/assets/colab-badge.svg\" alt=\"Open In Colab\"/></a>"
      ]
    },
    {
      "cell_type": "code",
      "execution_count": 5,
      "metadata": {
        "id": "7hz59b0iSmkU",
        "colab": {
          "base_uri": "https://localhost:8080/"
        },
        "outputId": "c559deb5-956e-4900-df49-2b5ab5d9fb72"
      },
      "outputs": [
        {
          "output_type": "stream",
          "name": "stdout",
          "text": [
            "Type 'encrypt' for encryption , type 'decrypt' for decryption:\n",
            "decrypt\n",
            "Type your message:\n",
            "rovvy rovvy 123 @\n",
            "Enter shift key:\n",
            "7\n",
            "Here's is the text after decryption: khoor khoor 123 @\n",
            "Type 'yes' to continue , type 'no' to exit.\n",
            "no\n",
            "Have a nice day! Bye..\n"
          ]
        }
      ],
      "source": [
        "alphabet=['a','b','c','d','e','f','g','h','i','j','k','l','m','n','o','p','q','r','s','t','u','v','w','x','y','z']\n",
        "def encryption(plain_text,shift_key):\n",
        "  cipher_text=\"\"\n",
        "  for char in plain_text:\n",
        "    if char in alphabet:\n",
        "      position=alphabet.index(char)\n",
        "      new_position=(position+shift_key)%26\n",
        "      cipher_text+=alphabet[new_position]\n",
        "    else:\n",
        "      cipher_text+=char\n",
        "  print(f\"Here's is the text after encryption: {cipher_text}\")\n",
        "def decryption(cipher_text,shift_key):\n",
        "  plain_text=\"\"\n",
        "  for char in cipher_text:\n",
        "    if char in alphabet:\n",
        "      position=alphabet.index(char)\n",
        "      new_position=(position-shift_key)%26\n",
        "      plain_text+=alphabet[new_position]\n",
        "    else:\n",
        "      plain_text+=char\n",
        "  print(f\"Here's is the text after decryption: {plain_text}\")\n",
        "wanna_end=False\n",
        "while not wanna_end:\n",
        "  what_to_do=input(\"Type 'encrypt' for encryption , type 'decrypt' for decryption:\\n\")\n",
        "  text=input(\"Type your message:\\n\").lower()\n",
        "  shift=int(input(\"Enter shift key:\\n\"))\n",
        "  if what_to_do==\"encrypt\":\n",
        "    encryption(plain_text=text,shift_key=shift)\n",
        "  elif what_to_do==\"decrypt\":\n",
        "    decryption(cipher_text=text,shift_key=shift)\n",
        "  play_again=input(\"Type 'yes' to continue , type 'no' to exit.\\n\")\n",
        "  if play_again=='no':\n",
        "    wanna_end=True\n",
        "    print(\"Have a nice day! Bye..\")"
      ]
    }
  ]
}